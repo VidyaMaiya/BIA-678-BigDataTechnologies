{
 "cells": [
  {
   "cell_type": "markdown",
   "metadata": {},
   "source": [
    "# Stock Prediction \n",
    "\n",
    " "
   ]
  },
  {
   "cell_type": "code",
   "execution_count": 128,
   "metadata": {},
   "outputs": [],
   "source": [
    "import pandas as pd\n",
    "import datetime as dt\n",
    "import math\n",
    "import matplotlib.pyplot as plt\n",
    "import numpy as np\n",
    "import pandas as pd\n",
    "from sklearn import preprocessing\n",
    "from sklearn.linear_model import LinearRegression\n",
    "from sklearn.model_selection import train_test_split\n",
    "\n",
    "ff=pd.read_csv('stockdata.csv')"
   ]
  },
  {
   "cell_type": "markdown",
   "metadata": {},
   "source": [
    "#Arima"
   ]
  },
  {
   "cell_type": "code",
   "execution_count": 3,
   "metadata": {},
   "outputs": [
    {
     "name": "stderr",
     "output_type": "stream",
     "text": [
      "C:\\Users\\kaviy\\Anaconda3\\lib\\importlib\\_bootstrap.py:219: RuntimeWarning: numpy.ufunc size changed, may indicate binary incompatibility. Expected 192 from C header, got 216 from PyObject\n",
      "  return f(*args, **kwds)\n",
      "C:\\Users\\kaviy\\Anaconda3\\lib\\importlib\\_bootstrap.py:219: RuntimeWarning: numpy.ufunc size changed, may indicate binary incompatibility. Expected 192 from C header, got 216 from PyObject\n",
      "  return f(*args, **kwds)\n",
      "C:\\Users\\kaviy\\Anaconda3\\lib\\importlib\\_bootstrap.py:219: RuntimeWarning: numpy.ufunc size changed, may indicate binary incompatibility. Expected 192 from C header, got 216 from PyObject\n",
      "  return f(*args, **kwds)\n",
      "C:\\Users\\kaviy\\Anaconda3\\lib\\importlib\\_bootstrap.py:219: RuntimeWarning: numpy.ufunc size changed, may indicate binary incompatibility. Expected 192 from C header, got 216 from PyObject\n",
      "  return f(*args, **kwds)\n",
      "C:\\Users\\kaviy\\Anaconda3\\lib\\importlib\\_bootstrap.py:219: RuntimeWarning: numpy.ufunc size changed, may indicate binary incompatibility. Expected 192 from C header, got 216 from PyObject\n",
      "  return f(*args, **kwds)\n",
      "C:\\Users\\kaviy\\Anaconda3\\lib\\importlib\\_bootstrap.py:219: RuntimeWarning: numpy.ufunc size changed, may indicate binary incompatibility. Expected 192 from C header, got 216 from PyObject\n",
      "  return f(*args, **kwds)\n",
      "C:\\Users\\kaviy\\Anaconda3\\lib\\importlib\\_bootstrap.py:219: RuntimeWarning: numpy.ufunc size changed, may indicate binary incompatibility. Expected 192 from C header, got 216 from PyObject\n",
      "  return f(*args, **kwds)\n",
      "C:\\Users\\kaviy\\Anaconda3\\lib\\importlib\\_bootstrap.py:219: RuntimeWarning: numpy.ufunc size changed, may indicate binary incompatibility. Expected 192 from C header, got 216 from PyObject\n",
      "  return f(*args, **kwds)\n"
     ]
    },
    {
     "name": "stdout",
     "output_type": "stream",
     "text": [
      "Fit ARIMA: order=(1, 1, 1) seasonal_order=(0, 1, 1, 12); AIC=-14367.486, BIC=-14331.968, Fit time=66.396 seconds\n",
      "Fit ARIMA: order=(0, 1, 0) seasonal_order=(0, 1, 0, 12); AIC=-7926.639, BIC=-7912.432, Fit time=2.843 seconds\n",
      "Fit ARIMA: order=(1, 1, 0) seasonal_order=(1, 1, 0, 12); AIC=-10902.967, BIC=-10874.553, Fit time=22.393 seconds\n",
      "Fit ARIMA: order=(0, 1, 1) seasonal_order=(0, 1, 1, 12); AIC=-14384.036, BIC=-14355.622, Fit time=61.114 seconds\n",
      "Fit ARIMA: order=(0, 1, 1) seasonal_order=(1, 1, 1, 12); AIC=-14389.368, BIC=-14353.850, Fit time=101.984 seconds\n",
      "Fit ARIMA: order=(0, 1, 1) seasonal_order=(1, 1, 0, 12); AIC=-10922.770, BIC=-10894.355, Fit time=35.154 seconds\n",
      "Fit ARIMA: order=(0, 1, 1) seasonal_order=(1, 1, 2, 12); AIC=-14380.488, BIC=-14337.867, Fit time=300.088 seconds\n",
      "Fit ARIMA: order=(0, 1, 1) seasonal_order=(0, 1, 0, 12); AIC=-8508.084, BIC=-8486.774, Fit time=3.425 seconds\n",
      "Fit ARIMA: order=(0, 1, 1) seasonal_order=(2, 1, 2, 12); AIC=-14378.854, BIC=-14329.130, Fit time=226.649 seconds\n",
      "Fit ARIMA: order=(1, 1, 1) seasonal_order=(1, 1, 1, 12); AIC=-14352.027, BIC=-14309.406, Fit time=77.301 seconds\n",
      "Fit ARIMA: order=(0, 1, 0) seasonal_order=(1, 1, 1, 12); AIC=-13737.675, BIC=-13709.261, Fit time=79.902 seconds\n",
      "Fit ARIMA: order=(0, 1, 2) seasonal_order=(1, 1, 1, 12); AIC=-14391.793, BIC=-14349.172, Fit time=108.011 seconds\n",
      "Fit ARIMA: order=(1, 1, 3) seasonal_order=(1, 1, 1, 12); AIC=-14229.855, BIC=-14173.027, Fit time=181.351 seconds\n",
      "Fit ARIMA: order=(0, 1, 2) seasonal_order=(0, 1, 1, 12); AIC=-14388.197, BIC=-14352.679, Fit time=116.831 seconds\n",
      "Fit ARIMA: order=(0, 1, 2) seasonal_order=(2, 1, 1, 12); AIC=-14385.918, BIC=-14336.194, Fit time=216.381 seconds\n",
      "Fit ARIMA: order=(0, 1, 2) seasonal_order=(1, 1, 0, 12); AIC=-10924.856, BIC=-10889.338, Fit time=23.575 seconds\n",
      "Fit ARIMA: order=(0, 1, 2) seasonal_order=(1, 1, 2, 12); AIC=-14373.550, BIC=-14323.825, Fit time=179.386 seconds\n",
      "Fit ARIMA: order=(0, 1, 2) seasonal_order=(0, 1, 0, 12); AIC=-8506.659, BIC=-8478.245, Fit time=6.096 seconds\n",
      "Fit ARIMA: order=(0, 1, 2) seasonal_order=(2, 1, 2, 12); AIC=-14382.608, BIC=-14325.780, Fit time=262.867 seconds\n",
      "Fit ARIMA: order=(1, 1, 2) seasonal_order=(1, 1, 1, 12); AIC=-14264.099, BIC=-14214.374, Fit time=94.826 seconds\n",
      "Fit ARIMA: order=(0, 1, 3) seasonal_order=(1, 1, 1, 12); AIC=-14376.915, BIC=-14327.191, Fit time=177.615 seconds\n",
      "Total fit time: 2344.214 seconds\n"
     ]
    },
    {
     "data": {
      "text/plain": [
       "ARIMA(callback=None, disp=0, maxiter=None, method=None, order=(0, 1, 2),\n",
       "      out_of_sample_size=0, scoring='mse', scoring_args=None,\n",
       "      seasonal_order=(1, 1, 1, 12), solver='lbfgs', start_params=None,\n",
       "      suppress_warnings=True, transparams=True, trend=None,\n",
       "      with_intercept=True)"
      ]
     },
     "execution_count": 3,
     "metadata": {},
     "output_type": "execute_result"
    }
   ],
   "source": [
    "from pmdarima.arima import auto_arima\n",
    "\n",
    "data = ff.sort_index(ascending=True, axis=0)\n",
    "\n",
    "train = data[:9000]\n",
    "valid = data[9000:]\n",
    "\n",
    "training = train['close']\n",
    "validation = valid['close']\n",
    "\n",
    "model = auto_arima(training, start_p=1, start_q=1,max_p=3, max_q=3, m=12,start_P=0, seasonal=True,d=1, D=1, trace=True,error_action='ignore',suppress_warnings=True)\n",
    "model.fit(training)\n"
   ]
  },
  {
   "cell_type": "code",
   "execution_count": 6,
   "metadata": {},
   "outputs": [
    {
     "name": "stdout",
     "output_type": "stream",
     "text": [
      "0.7538735623610084\n"
     ]
    },
    {
     "data": {
      "text/plain": [
       "[<matplotlib.lines.Line2D at 0x16f63010c08>]"
      ]
     },
     "execution_count": 6,
     "metadata": {},
     "output_type": "execute_result"
    },
    {
     "data": {
      "image/png": "[encoded data removed]",
      "text/plain": [
       "<Figure size 432x288 with 1 Axes>"
      ]
     },
     "metadata": {
      "needs_background": "light"
     },
     "output_type": "display_data"
    }
   ],
   "source": [
    "forecast = model.predict(n_periods=len(valid))\n",
    "forecast = pd.DataFrame(forecast,index = valid.index,columns=['Prediction'])\n",
    "\n",
    "rms=np.sqrt(np.mean(np.power((np.array(valid['close'])-np.array(forecast['Prediction'])),2)))\n",
    "print(rms)\n",
    "\n",
    "new=model.predict(n_periods=20) # prediction count\n",
    "new=pd.DataFrame(new,columns=['Prediction'])\n",
    "\n",
    "plt.plot(train['close'])\n",
    "plt.plot(valid['close'])\n",
    "plt.plot(new['Prediction'])\n",
    "plt.plot(forecast['Prediction'])"
   ]
  },
  {
   "cell_type": "markdown",
   "metadata": {},
   "source": [
    "#LinearRegression"
   ]
  },
  {
   "cell_type": "code",
   "execution_count": 130,
   "metadata": {},
   "outputs": [],
   "source": [
    "# X"
   ]
  },
  {
   "cell_type": "code",
   "execution_count": 131,
   "metadata": {},
   "outputs": [],
   "source": [
    "# ff.index=ff['Date']\n",
    "# ff = ff[['open', 'high', 'low', 'close', 'volume']]\n",
    "# ff['highLoad'] = (ff['high'] - ff['close']) / ff['close'] * 100.0\n",
    "# ff['change'] = (ff['close'] - ff['open']) / ff['open'] * 100.0\n",
    "# ff = ff[['close', 'highLoad', 'change', 'volume']]\n",
    "    \n",
    "\n",
    "# forecast_col = 'close'\n",
    "# forecast_out = int(math.ceil(0.1*len(ff)))\n",
    "# ff['Label'] = ff[[forecast_col]].shift(-forecast_out)\n",
    "\n",
    "# X = ff.drop(['Label'], axis=1)\n",
    "# X = preprocessing.scale(X)\n",
    "# # X_forecast = X[-forecast_out:]\n",
    "# # X = X[:-forecast_out]\n",
    "\n",
    "# ff.dropna(inplace=True)\n",
    "# y = ff['Label']\n",
    "\n",
    "# X_train, X_test, y_train, y_test = train_test_split(X, y, test_size=0.5)\n",
    "\n",
    "# clf = LinearRegression(n_jobs=-1)\n",
    "# clf.fit(X_train, y_train)\n",
    "# accuracy = clf.score(X_test, y_test)\n",
    "# forecast = clf.predict(X_forecast)\n",
    "\n",
    "# y_test['Prediction'] = np.nan\n",
    "\n",
    "# # last_date = ff.iloc[-1].name\n",
    "# # last_date = dt.datetime.strptime(str(last_date), \"%Y-%m-%d \")\n",
    "\n",
    "# for pred in forecast:\n",
    "#     last_date += dt.timedelta(days=1)\n",
    "#     ff.loc[last_date.strftime(\"%Y-%m-%d\")] = [np.nan for _ in range(len(df.columns) - 1)] + [pred]\n",
    "    "
   ]
  },
  {
   "cell_type": "code",
   "execution_count": 132,
   "metadata": {},
   "outputs": [],
   "source": [
    "# ff['close'].plot(color='black')\n",
    "# pd.DataFrame(forecast).plot(color='green')\n",
    "\n",
    "\n",
    "# plt.legend(loc=4)\n",
    "# plt.xlabel('Date')\n",
    "# plt.ylabel('Price')\n",
    "# plt.show()"
   ]
  },
  {
   "cell_type": "markdown",
   "metadata": {},
   "source": [
    "# Twitter Preprocessing"
   ]
  },
  {
   "cell_type": "code",
   "execution_count": 67,
   "metadata": {},
   "outputs": [],
   "source": [
    "tweets_df=pd.read_csv('tweetsdata.csv')"
   ]
  },
  {
   "cell_type": "code",
   "execution_count": 68,
   "metadata": {},
   "outputs": [
    {
     "name": "stderr",
     "output_type": "stream",
     "text": [
      "C:\\Users\\kaviy\\Anaconda3\\lib\\importlib\\_bootstrap.py:219: RuntimeWarning: numpy.ufunc size changed, may indicate binary incompatibility. Expected 192 from C header, got 216 from PyObject\n",
      "  return f(*args, **kwds)\n"
     ]
    }
   ],
   "source": [
    "import re\n",
    "import nltk\n",
    "from nltk.corpus import stopwords\n",
    "from nltk.corpus import stopwords \n",
    "from nltk.tokenize import word_tokenize \n",
    "\n",
    "\n",
    "def preprocess_text(para):\n",
    "    i=tweets_df[tweets_df['tweets']==para].index.tolist()\n",
    "    # LowerCase\n",
    "    para=para.lower()\n",
    "    \n",
    "    #Remove Http Links\n",
    "    para=re.sub(r'http\\S+', '', para)\n",
    "    \n",
    "    # Remove hastag\n",
    "    para=' '.join(re.sub(\"(@[A-Za-z0-9]+)|([^0-9A-Za-z \\t])|(\\w+:\\/\\/\\S+)\",\" \",para).split())\n",
    "        \n",
    "    # Punctuations & Symbols \n",
    "    para=re.sub(r'[^\\w]',' ', para)\n",
    "    # Whitespaces\n",
    "    para=para.replace(\"  \", \" \")\n",
    "    para=para.strip()\n",
    "    \n",
    "    # Stop Words\n",
    "    stop_words = set(stopwords.words('english')) \n",
    "    word_tokens = word_tokenize(para) \n",
    "    filtered_sentence = [w for w in word_tokens if not w in stop_words] \n",
    "    para = \" \".join(filtered_sentence)\n",
    "#     print(para)\n",
    "    \n",
    "    \n",
    "   \n",
    "    tweets_df['new_tweets'].iloc[i]=para\n"
   ]
  },
  {
   "cell_type": "code",
   "execution_count": 69,
   "metadata": {},
   "outputs": [
    {
     "name": "stderr",
     "output_type": "stream",
     "text": [
      "C:\\Users\\kaviy\\Anaconda3\\lib\\site-packages\\pandas\\core\\indexing.py:205: SettingWithCopyWarning: \n",
      "A value is trying to be set on a copy of a slice from a DataFrame\n",
      "\n",
      "See the caveats in the documentation: http://pandas.pydata.org/pandas-docs/stable/user_guide/indexing.html#returning-a-view-versus-a-copy\n",
      "  self._setitem_with_indexer(indexer, value)\n"
     ]
    }
   ],
   "source": [
    "import re\n",
    "tweets_df['new_tweets']=' '\n",
    "\n",
    "for x in tweets_df['tweets']:\n",
    "    preprocess_text(x)"
   ]
  },
  {
   "cell_type": "code",
   "execution_count": 70,
   "metadata": {},
   "outputs": [
    {
     "name": "stderr",
     "output_type": "stream",
     "text": [
      "[nltk_data] Downloading package wordnet to\n",
      "[nltk_data]     C:\\Users\\kaviy\\AppData\\Roaming\\nltk_data...\n",
      "[nltk_data]   Package wordnet is already up-to-date!\n"
     ]
    }
   ],
   "source": [
    "nltk.download('wordnet')\n",
    "from nltk.stem import WordNetLemmatizer\n",
    "\n",
    "tokenized_tweet = tweets_df['new_tweets'].apply(lambda x: x.split())\n",
    "word_lemmatizer = WordNetLemmatizer()\n",
    "tokenized_tweet = tokenized_tweet.apply(lambda x: [word_lemmatizer.lemmatize(i) for i in x])\n",
    "for i, tokens in enumerate(tokenized_tweet):\n",
    "    tokenized_tweet[i] = ' '.join(tokens)\n",
    "\n",
    "tweets_df['new_tweets'] = tokenized_tweet"
   ]
  },
  {
   "cell_type": "code",
   "execution_count": 71,
   "metadata": {},
   "outputs": [
    {
     "data": {
      "text/html": [
       "<div>\n",
       "<style scoped>\n",
       "    .dataframe tbody tr th:only-of-type {\n",
       "        vertical-align: middle;\n",
       "    }\n",
       "\n",
       "    .dataframe tbody tr th {\n",
       "        vertical-align: top;\n",
       "    }\n",
       "\n",
       "    .dataframe thead th {\n",
       "        text-align: right;\n",
       "    }\n",
       "</style>\n",
       "<table border=\"1\" class=\"dataframe\">\n",
       "  <thead>\n",
       "    <tr style=\"text-align: right;\">\n",
       "      <th></th>\n",
       "      <th>Unnamed: 0</th>\n",
       "      <th>tweets</th>\n",
       "      <th>new_tweets</th>\n",
       "    </tr>\n",
       "  </thead>\n",
       "  <tbody>\n",
       "    <tr>\n",
       "      <td>0</td>\n",
       "      <td>0</td>\n",
       "      <td>We have another BIG update with Windows Termin...</td>\n",
       "      <td>another big update window terminal v0 7</td>\n",
       "    </tr>\n",
       "    <tr>\n",
       "      <td>1</td>\n",
       "      <td>1</td>\n",
       "      <td>Microsoft researchers have created Icebreaker,...</td>\n",
       "      <td>microsoft researcher created icebreaker deep g...</td>\n",
       "    </tr>\n",
       "    <tr>\n",
       "      <td>2</td>\n",
       "      <td>2</td>\n",
       "      <td>#PowerShell included by default in a Linux dis...</td>\n",
       "      <td>powershell included default linux distro</td>\n",
       "    </tr>\n",
       "    <tr>\n",
       "      <td>3</td>\n",
       "      <td>3</td>\n",
       "      <td>For one year, we tracked the polymorphic threa...</td>\n",
       "      <td>one year tracked polymorphic threat dexphot re...</td>\n",
       "    </tr>\n",
       "    <tr>\n",
       "      <td>4</td>\n",
       "      <td>4</td>\n",
       "      <td>DEADLINE APPROACHING \\n\\nIf you want to:\\n le...</td>\n",
       "      <td>deadline approaching want lead local community...</td>\n",
       "    </tr>\n",
       "  </tbody>\n",
       "</table>\n",
       "</div>"
      ],
      "text/plain": [
       "   Unnamed: 0                                             tweets                                         new_tweets\n",
       "0           0  We have another BIG update with Windows Termin...            another big update window terminal v0 7\n",
       "1           1  Microsoft researchers have created Icebreaker,...  microsoft researcher created icebreaker deep g...\n",
       "2           2  #PowerShell included by default in a Linux dis...           powershell included default linux distro\n",
       "3           3  For one year, we tracked the polymorphic threa...  one year tracked polymorphic threat dexphot re...\n",
       "4           4   DEADLINE APPROACHING \\n\\nIf you want to:\\n le...  deadline approaching want lead local community..."
      ]
     },
     "execution_count": 71,
     "metadata": {},
     "output_type": "execute_result"
    }
   ],
   "source": [
    "tweets_df.head()"
   ]
  },
  {
   "cell_type": "code",
   "execution_count": 72,
   "metadata": {},
   "outputs": [],
   "source": [
    "from textblob import TextBlob\n",
    "\n",
    "class Tweet(object):\n",
    "\n",
    "    def __init__(self, content, polarity):\n",
    "        self.content = content\n",
    "        self.polarity = polarity\n",
    "        \n",
    "tweet_list = []\n",
    "global_polarity = 0\n",
    "for tweet in tweets_df.new_tweets:\n",
    "    tw = tweet\n",
    "    blob = TextBlob(tw)\n",
    "    polarity = 0\n",
    "    for sentence in blob.sentences:\n",
    "        polarity += sentence.sentiment.polarity\n",
    "        global_polarity += sentence.sentiment.polarity\n",
    "    tweet_list.append(Tweet(tw, polarity))\n",
    "\n",
    "global_polarity = global_polarity / len(tweet_list)"
   ]
  },
  {
   "cell_type": "markdown",
   "metadata": {},
   "source": [
    "# Recommendation "
   ]
  },
  {
   "cell_type": "code",
   "execution_count": 75,
   "metadata": {},
   "outputs": [
    {
     "name": "stdout",
     "output_type": "stream",
     "text": [
      "According to the predictions and twitter sentiment analysis -> Investing in MSFT is a BAD idea!\n"
     ]
    }
   ],
   "source": [
    "symbol='MSFT'\n",
    "if ff.iloc[-forecast_out-1]['close'] < ff.iloc[-1]['Prediction']:\n",
    "    if global_polarity > 0:\n",
    "        print(\"According to the predictions and twitter sentiment analysis -> Investing in %s is a GREAT idea!\" % str(symbol))\n",
    "    elif global_polarity < 0:\n",
    "        print(\"According to the predictions and twitter sentiment analysis -> Investing in %s is a BAD idea!\" % str(symbol))\n",
    "else:\n",
    "    print(\"According to the predictions and twitter sentiment analysis -> Investing in %s is a BAD idea!\" % str(symbol))\n"
   ]
  },
  {
   "cell_type": "code",
   "execution_count": null,
   "metadata": {},
   "outputs": [],
   "source": []
  },
  {
   "cell_type": "code",
   "execution_count": null,
   "metadata": {},
   "outputs": [],
   "source": []
  },
  {
   "cell_type": "code",
   "execution_count": null,
   "metadata": {},
   "outputs": [],
   "source": []
  },
  {
   "cell_type": "code",
   "execution_count": null,
   "metadata": {},
   "outputs": [],
   "source": []
  },
  {
   "cell_type": "code",
   "execution_count": null,
   "metadata": {},
   "outputs": [],
   "source": []
  },
  {
   "cell_type": "code",
   "execution_count": null,
   "metadata": {},
   "outputs": [],
   "source": []
  }
 ],
 "metadata": {
  "kernelspec": {
   "display_name": "Python 3",
   "language": "python",
   "name": "python3"
  }
 },
 "nbformat": 4,
 "nbformat_minor": 2
}
